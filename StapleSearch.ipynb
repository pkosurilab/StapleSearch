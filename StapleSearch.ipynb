{
 "cells": [
  {
   "cell_type": "code",
   "execution_count": 2,
   "id": "617033de",
   "metadata": {
    "scrolled": true
   },
   "outputs": [],
   "source": [
    "import pandas as pd\n",
    "from stapleSearch import stapSearch\n",
    "staples_file='D:/Ryan/stapleSearch/v2design09sequences.csv'\n",
    "genome_file='D:/Ryan/stapleSearch/M13_RRO_permutation.txt'\n",
    "genome =pd.read_csv( genome_file, sep=' ')\n",
    "staples =pd.read_csv(staples_file, usecols=[\"Sequence\"])\n",
    "\n",
    "#Make data frame with library of sequences to be tested agains\n",
    "toSearch = pd.concat([genome,staples],ignore_index=True)\n",
    "\n",
    "\n",
    "\n",
    "#Test Sequences\n",
    "\n",
    "seq1='TTCTAGCTGATAAATTTCCTCAGTTGTGTGCGTCTCGGACTAGTCCGGC'\n",
    "\n",
    "rc1='GCCGGACTAGTCCGAGACGCACACAACTGAGGAAATTTATCAGCTAGAA'\n",
    "\n",
    "seq2='CGCAGAGCCTGATCAGGCCGCGTTACTATCACTCGTTATTTGTATTTCTACTTTAATTGATT'\n",
    "\n",
    "rc2='AATCAATTAAAGTAGAAATACAAATAACGAGTGATAGTAACGCGGCCTGATCAGGCTCTGCG'\n",
    "\n",
    "\n",
    "K = 8  # Length of substrings to test\n"
   ]
  },
  {
   "cell_type": "code",
   "execution_count": null,
   "id": "8b9e026f",
   "metadata": {},
   "outputs": [],
   "source": []
  },
  {
   "cell_type": "code",
   "execution_count": 3,
   "id": "35d037c7",
   "metadata": {},
   "outputs": [
    {
     "name": "stdout",
     "output_type": "stream",
     "text": [
      "The original string is : GCCGGACTAGTCCGAGACGCACACAACTGAGGAAATTTATCAGCTAGAA\n",
      "substring: AAATTTAT matches staples: [164]\n",
      "substring: AATTTATC matches staples: [0]\n",
      "substring: ATTTATCA matches staples: [0]\n",
      "substring: TTTATCAG matches staples: [0, 147]\n",
      "substring: TTATCAGC matches staples: [0]\n",
      "substring: TATCAGCT matches staples: [0, 74]\n",
      "substring: ATCAGCTA matches staples: [0, 74]\n",
      "substring: TCAGCTAG matches staples: [0]\n",
      "substring: CAGCTAGA matches staples: [0]\n",
      "substring: AGCTAGAA matches staples: [0]\n"
     ]
    }
   ],
   "source": [
    "#staples[0] is genome, have to fix index still\n",
    "stapSearch(rc1,toSearch,K)\n",
    "#print(toSearch.iloc[[164]])\n"
   ]
  },
  {
   "cell_type": "code",
   "execution_count": 4,
   "id": "cbd1f1e0",
   "metadata": {},
   "outputs": [
    {
     "name": "stdout",
     "output_type": "stream",
     "text": [
      "                                       Sequence\n",
      "164  GAGTAAAAATTTATAAGACGCTGAGAAGCCCTTAGAATCCTT\n"
     ]
    }
   ],
   "source": [
    "print(toSearch.iloc[[164]])"
   ]
  },
  {
   "cell_type": "code",
   "execution_count": null,
   "id": "f8a10fe2",
   "metadata": {},
   "outputs": [],
   "source": []
  }
 ],
 "metadata": {
  "kernelspec": {
   "display_name": "Python 3 (ipykernel)",
   "language": "python",
   "name": "python3"
  },
  "language_info": {
   "codemirror_mode": {
    "name": "ipython",
    "version": 3
   },
   "file_extension": ".py",
   "mimetype": "text/x-python",
   "name": "python",
   "nbconvert_exporter": "python",
   "pygments_lexer": "ipython3",
   "version": "3.9.11"
  }
 },
 "nbformat": 4,
 "nbformat_minor": 5
}
